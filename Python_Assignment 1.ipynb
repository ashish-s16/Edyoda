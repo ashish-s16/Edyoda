{
 "cells": [
  {
   "cell_type": "code",
   "execution_count": 108,
   "metadata": {},
   "outputs": [
    {
     "name": "stdout",
     "output_type": "stream",
     "text": [
      "\n"
     ]
    }
   ],
   "source": [
    "1.In the pre-smartphone era,each number key is assigned a subset of the alphabet {a,b,…,z}.\n",
    "\n",
    "- 2 is assigned {a,b,c}, \n",
    "- 3 is assigned {d,e,f} \n",
    "- 4 is assigned {g,h,i} \n",
    "- 5 is assigned {j,k,l}\n",
    "- 6 is assigned {m,n,o} \n",
    "- 7 is assigned {p,q,r,s}\n",
    "- 8 is assigned {t,u,v} \n",
    "- 9 is assigned {w,x,y,z}\n",
    "\n",
    "Write a function numbers_to_chars() to find the characters generated using key 9999335533. Output should be \"zeke\"\n",
    "\n",
    "Function Name : numbers_to_chars() Input : Integer number sequence Output : Str"
   ]
  },
  {
   "cell_type": "code",
   "execution_count": 12,
   "metadata": {},
   "outputs": [
    {
     "name": "stdout",
     "output_type": "stream",
     "text": [
      "99993344\n",
      "zeh\n"
     ]
    }
   ],
   "source": [
    "#the program assumes that there is no space between the integers entered and 7,9 are not pressed more than 4 times and \n",
    "#other numbers are not pressed more than 3 times. for example, will not work if 999993333\n",
    "\n",
    "def corresponding_char(integer,counter):  #function to return the character. Takes the number and repitition \n",
    "    key={'2':['a','b','c'],'3':['d','e','f'],'4':['g','h','i'],'5':['j','k','l'],  #dict of numbers and corresponding values\n",
    "         '6':['m','n','o'],'7':['p','q','r','s'],'8':['t','u','v'],'9':['w','x','y','z']}\n",
    "    return key[integer][counter-1]\n",
    "\n",
    "def numbers_to_chars(sequence):                                     #main function\n",
    "    str_sequence=str(sequence)+\"/\"                                  #convert int to str+/ \n",
    "    counter=0\n",
    "    result=\"\"\n",
    "    integer_list=[]\n",
    "    unique_integer=str_sequence[0]                                         #integer='9'\n",
    "    start=0\n",
    "    for index,count in enumerate(str_sequence):\n",
    "        if unique_integer==count:                                          #calculates the repitition of a letter\n",
    "            counter+=1\n",
    "            \n",
    "        else:\n",
    "            integer_list.append(str_sequence[start:start+counter])  #after final iteration, integer_list=['9999','33','55','33']\n",
    "            start=index\n",
    "            counter=1\n",
    "            unique_integer=count\n",
    "    \n",
    "    for index, value in enumerate(integer_list):                    #loop to print the final result\n",
    "        result+=corresponding_char(value[0],integer_list[index].count(integer_list[index][0]))\n",
    "    \n",
    "    print(result) \n",
    "    \n",
    "\n",
    "sequence=int(input())\n",
    "\n",
    "numbers_to_chars(sequence)\n",
    "            "
   ]
  },
  {
   "cell_type": "code",
   "execution_count": 109,
   "metadata": {},
   "outputs": [
    {
     "name": "stdout",
     "output_type": "stream",
     "text": [
      "\n"
     ]
    }
   ],
   "source": [
    "2.Given a dict of tickets(\"to\":\"from\")\n",
    "\n",
    "{\"Chennai\":\"Banglore\",\"Bombay\":\"Delhi\",\"Goa\":\"Chennai\",\"Delhi\":\"Goa\"} find out the sequence of travel.\n",
    "\n",
    "Expected Output : Bombay->Delhi, Delhi->Goa, Goa->Chennai, Chennai->Banglore\n",
    "\n",
    "Function Name : travel_sequence Input : dict Output : dict"
   ]
  },
  {
   "cell_type": "code",
   "execution_count": 13,
   "metadata": {},
   "outputs": [
    {
     "name": "stdout",
     "output_type": "stream",
     "text": [
      "Bombay ->Delhi, Delhi ->Goa, Goa ->Chennai, Chennai ->Banglore"
     ]
    }
   ],
   "source": [
    "def travel_sequence(cities):\n",
    "    location=[]                        #list to store the from and to cities in sequence since list is ordered\n",
    "    for city in cities:                #loop to get the starting city\n",
    "        if city not in cities.values():\n",
    "            start=city                 #start=bombay\n",
    "\n",
    "    for i in range(len(cities)):       #loop to store the cities in location list in sequence. \n",
    "        location.append(start)         #location[0]=bombay-> location[1]=delhi\n",
    "        location.append(cities[start])\n",
    "        start=cities[start]    \n",
    "\n",
    "    for index, value in enumerate(location):    \n",
    "        if index%2==0:                  #even places of list contains from cities\n",
    "            print(value, \"->\", end=\"\")\n",
    "        else:                           #odd places of list contains to cities\n",
    "            print(value, end=\"\")\n",
    "            if index!=len(location)-1:  #to check if end of list is reached. else extra ',' is seen\n",
    "                print(\", \", end=\"\")\n",
    "\n",
    "diction={\"Chennai\":\"Banglore\",\"Bombay\":\"Delhi\",\"Goa\":\"Chennai\",\"Delhi\":\"Goa\"} #can be taken via input and for loop and setdefault()\n",
    "\n",
    "travel_sequence(diction)"
   ]
  },
  {
   "cell_type": "code",
   "execution_count": 83,
   "metadata": {},
   "outputs": [
    {
     "name": "stdout",
     "output_type": "stream",
     "text": [
      "\n"
     ]
    }
   ],
   "source": [
    "\n",
    "3.Given a dictionary that associates the names of states with a list of the names of cities that appear in it,write a program that creates a new dictionary that associates the name of a city with the list of states that it appears in.\n",
    "\n",
    "As an example, if the first dictionary is\n",
    "\n",
    "Input : states = {'New Hampshire': ['Concord', 'Hanover'],\n",
    "\n",
    "'Massachusetts': ['Boston', 'Concord', 'Springfield'],\n",
    "\n",
    "'Illinois': ['Chicago', 'Springfield', 'Peoria'] }\n",
    "\n",
    "Output:\n",
    "\n",
    "cities = {'Hanover': ['New Hampshire'],\n",
    "\n",
    "'Chicago': ['Illinois'],'Boston': ['Massachusetts'],\n",
    "\n",
    "'Peoria': ['Illinois'],'Concord': ['New Hampshire','Massachusetts'],\n",
    "\n",
    "'Springfield': ['Massachusetts', 'Illinois'] }\n",
    "\n",
    "Function Name : city_with_states Input : dict Output : dict"
   ]
  },
  {
   "cell_type": "code",
   "execution_count": 13,
   "metadata": {},
   "outputs": [
    {
     "name": "stdout",
     "output_type": "stream",
     "text": [
      "{'Springfield': ['Massachusetts', 'Illinois'], 'Concord': ['New Hampshire', 'Massachusetts'], 'Chicago': ['Illinois'], 'Peoria': ['Illinois'], 'Boston': ['Massachusetts'], 'Hanover': ['New Hampshire']}\n"
     ]
    }
   ],
   "source": [
    "def city_with_states(states):\n",
    "    result={}\n",
    "    nest_lists=[]         #[['Concord', 'Hanover'], ['Boston', 'Concord', 'Springfield'], ['Chicago', 'Springfield', 'Peoria']][['Concord', 'Hanover'], ['Boston', 'Concord', 'Springfield'], ['Chicago', 'Springfield', 'Peoria']]\n",
    "    flat_list=[]          #['Concord', 'Hanover','Boston', 'Concord', 'Springfield','Chicago', 'Springfield', 'Peoria', 'Concord', 'Hanover', 'Boston', 'Concord', 'Springfield', 'Chicago', 'Springfield', 'Peoria']\n",
    "    nest_lists.extend(states.values())   \n",
    "\n",
    "    for i in nest_lists:\n",
    "        if type(i)==list:\n",
    "            for j in i:\n",
    "                flat_list.append(j)\n",
    "        else:\n",
    "            flat_list.append(i)\n",
    "    flat_sets=set(flat_list)             #{'Concord', 'Boston', 'Chicago', 'Hanover', 'Peoria', 'Springfield'} i.e individual city names\n",
    "    unique_flat_list=list(flat_sets)    #['Concord', 'Boston', 'Chicago', 'Hanover', 'Peoria', 'Springfield']\n",
    "    for value in unique_flat_list:\n",
    "        cities=[]\n",
    "        for key in states:              #states={new hamshire, massachusetts, illinois}\n",
    "            if value in states[key]:\n",
    "                cities.append(key)\n",
    "        result.setdefault(value,cities)\n",
    "    print(result)\n",
    "\n",
    "states = {'New Hampshire': ['Concord', 'Hanover'],\n",
    "          'Massachusetts': ['Boston', 'Concord', 'Springfield'],\n",
    "          'Illinois': ['Chicago', 'Springfield', 'Peoria'] }\n",
    "city_with_states(states)"
   ]
  },
  {
   "cell_type": "code",
   "execution_count": 104,
   "metadata": {},
   "outputs": [
    {
     "name": "stdout",
     "output_type": "stream",
     "text": [
      "\n"
     ]
    }
   ],
   "source": [
    "4.How do you check if a given String contains valid parentheses? Given a string containing just the characters '(', ')', '{', '}', '[' and ']', write a program in python to check if the input string is valid. The brackets must close in the correct order, \"()\" and \"()[]{}\" are all valid but \"(]\" and \"([)]\" are not.\n",
    "\n",
    "Function Name : check_parentheses Input : str Output : True/False"
   ]
  },
  {
   "cell_type": "code",
   "execution_count": 14,
   "metadata": {},
   "outputs": [
    {
     "name": "stdout",
     "output_type": "stream",
     "text": [
      "True\n"
     ]
    }
   ],
   "source": [
    "def check_parentheses(string):\n",
    "    reference={'(':')','{':'}','[':']'}     #dict to compare the passed string\n",
    "    flag=True                               #True is comparison does not fail\n",
    "    for index in range(0,len(string),2):    #index will be 0,2,4 in respective iterations\n",
    "        x=string[index]                     #x will be '(','{','[' in respective iterations\n",
    "        if string[index+1]!=reference[x]:   #if string[1] (')') != value of '(' in reference dict\n",
    "            flag=False\n",
    "    \n",
    "    print(flag)\n",
    "\n",
    "string='(){}[]'    #can be taken by string=input()\n",
    "\n",
    "check_parentheses(string)\n"
   ]
  },
  {
   "cell_type": "code",
   "execution_count": null,
   "metadata": {},
   "outputs": [],
   "source": [
    "\n",
    "5.Write a program to convert Integer to Roman String. For example, if a given integer is 5 then your program should print \"V\".\n",
    "\n",
    "Function Name : int_roman Input : int Output : str"
   ]
  },
  {
   "cell_type": "code",
   "execution_count": 4,
   "metadata": {},
   "outputs": [
    {
     "name": "stdout",
     "output_type": "stream",
     "text": [
      "enter a number between 1 to 3999 (both inclusive): 1040\n",
      "MXL\n"
     ]
    }
   ],
   "source": [
    "#can give output of roman numbers till 3999\n",
    "def int_roman(number):                      #let number=3443\n",
    "    roman={1:'I', 2:'II', 3:'III', 4:'IV', 5:'V', 6:'VI', 7:'VII', 8:'VIII', 9:'IX', 10:'X', \n",
    "           40:'XL', 50:'L',90:'XC',100:'C', 400:'CD',500:'D', 900:'CM',1000:'M'}\n",
    "    result=\"\"\n",
    "\n",
    "    if number in roman:\n",
    "        print(roman[number])\n",
    "    else:\n",
    "        thousands_index=int(number/1000)    #thousands_index= 3 {thousands place of 3443}\n",
    "        thousands=thousands_index*1000      #thousands=3000\n",
    "        number=number-thousands             #number=3443-3000=442\n",
    "        hundreds_index=int(number/100)      #hundreds_index= 4  {hundreds place of 442}\n",
    "        hundreds=hundreds_index*100         #hundreds=400\n",
    "        number=number-hundreds              #number=442-400=42\n",
    "        tens_index=int(number/10)           #tens_index=4\n",
    "        tens=tens_index*10                  #tens=40\n",
    "        number=number-tens                  #Number=42-40=2\n",
    "        ones=number                         #ones=2\n",
    "\n",
    "        if thousands>3999:                  #can calculate till 3999 as 4000 is CV<bar> and cannot represent bar over a char\n",
    "            print('please enter a number between 1-3999')\n",
    "        else:                               #main program\n",
    "            result+=roman[1000]*thousands_index    \n",
    "        if hundreds>500 and hundreds<900:\n",
    "            x=int((hundreds-500)/100)\n",
    "            result+=roman[500]+roman[100]*x\n",
    "        elif hundreds==900:\n",
    "            result+=roman[900]\n",
    "        elif hundreds==400:\n",
    "            result+=roman[400]\n",
    "        elif hundreds==500:\n",
    "            result+=roman[500]\n",
    "        elif hundreds==100:\n",
    "            result+=roman[100]\n",
    "        else:\n",
    "            result+=roman[100]*hundreds_index\n",
    "\n",
    "        if tens==10:\n",
    "            result+=roman[10]\n",
    "        elif tens<40:\n",
    "            result+=roman[10]*tens_index\n",
    "        elif tens==40:\n",
    "            result+=roman[40]\n",
    "        elif tens==50:\n",
    "            result+=roman[50]\n",
    "        elif tens>50 and tens<90:\n",
    "            y=int((tens-50)/10)\n",
    "            result+=roman[50]+roman[10]*y\n",
    "        else:\n",
    "            result+=roman[90]\n",
    "        if ones!=0:\n",
    "            result+=roman[ones]\n",
    "\n",
    "    print(result)\n",
    "\n",
    "\n",
    "x=int(input(\"enter a number between 1 to 3999 (both inclusive): \"))\n",
    "\n",
    "int_roman(x)"
   ]
  },
  {
   "cell_type": "code",
   "execution_count": null,
   "metadata": {},
   "outputs": [],
   "source": [
    "6.Write a program utility that counts the number of lines of actual python code in a. For the purpose of this exercise, \n",
    "a line is counted if it contains something other than whitespace or text in a comment.\n",
    "\n",
    "remember that comment start sequences that appear inside python strings should be ignored.\n",
    "\n",
    "Function Name : count_code_lines Input : str Output : int"
   ]
  },
  {
   "cell_type": "code",
   "execution_count": 11,
   "metadata": {},
   "outputs": [
    {
     "name": "stdout",
     "output_type": "stream",
     "text": [
      "lines of code =  6\n"
     ]
    }
   ],
   "source": [
    "#every new line will contain \"\\n\"\n",
    "def count_code_lines(string):\n",
    "    counter=1\n",
    "    for value in string:\n",
    "        if value=='\\n':\n",
    "            counter+=1\n",
    "    \n",
    "    print(\"lines of code = \", counter)\n",
    "    \n",
    "code='''x=10\n",
    "y=20\n",
    "print(x+y)\n",
    "if x+y<40:\n",
    "    print('true')'''\n",
    "\n",
    "count_code_lines(code)"
   ]
  },
  {
   "cell_type": "code",
   "execution_count": null,
   "metadata": {},
   "outputs": [],
   "source": [
    "7.Write a program to check the strength of a supplied password\n",
    "\n",
    "The length of the password must be at least 8 characters in length The password must contain at least 1 capital letter \n",
    "The password must contain at least 1 digit The password must contain at least 1 special character and allowed special \n",
    "characters are (!,@,#,$,&)\n",
    "\n",
    "We need to provide feedback to the user about the strength of their password\n",
    "\n",
    "Provide the user with a list of reasons why their password is 'weak'\n",
    "    Function Name : check_password_strength Input : str Output : tuple (str,list) \n",
    "                eg (\"Weak\",[\"The password must contain at least 1 capital letter\"])"
   ]
  },
  {
   "cell_type": "code",
   "execution_count": 42,
   "metadata": {},
   "outputs": [
    {
     "name": "stdout",
     "output_type": "stream",
     "text": [
      "('weak', ['the password must be atleast 8 character long'], ['the password must contain a digit'])\n"
     ]
    }
   ],
   "source": [
    "def check_password_strength(input_password):\n",
    "    reason=[]\n",
    "    \n",
    "    flag_char=0\n",
    "    flag_caps=0\n",
    "    \n",
    "    flag_digit=0\n",
    "    if len(input_password)<8:\n",
    "        reason.append('weak')\n",
    "        reason.append([\"the password must be atleast 8 character long\"])\n",
    "    for value in input_password:\n",
    "        if value.isdigit():\n",
    "            flag_digit=1\n",
    "        if value.isupper():\n",
    "            flag_caps=1\n",
    "        if value=='!' or value=='@' or value=='#' or value=='$' or value=='&':\n",
    "            flag_char=1\n",
    "    if flag_char==0:\n",
    "        if reason:\n",
    "            reason.append([\"the password must contain special character\"])\n",
    "        else:\n",
    "            reason.append(\"weak\")\n",
    "            reason.append([\"the password must contain special character\"])\n",
    "    if flag_caps==0:\n",
    "        if reason:\n",
    "            reason.append([\"the password must contain a capital letter\"])\n",
    "        else:\n",
    "            reason.append(\"weak\")\n",
    "            reason.append([\"the password must contain a capital letter\"])\n",
    "    if flag_digit==0:\n",
    "        if reason:\n",
    "            reason.append([\"the password must contain a digit\"])\n",
    "        else:\n",
    "            reason.append(\"weak\")\n",
    "            reason.append([\"the password must contain a digit\"])\n",
    "    if reason:\n",
    "        print(tuple(reason))\n",
    "    else:\n",
    "        print(\"password is correct\")\n",
    "    \n",
    "input_pass=\"absD#\"\n",
    "check_password_strength(input_pass)    "
   ]
  },
  {
   "cell_type": "code",
   "execution_count": null,
   "metadata": {},
   "outputs": [],
   "source": [
    "8. Check if given sentence is syntactically correct or not\n",
    "A simple sentence if syntactically correct if it fulfills given rules. The following are given rules.\n",
    "\n",
    "Sentence must start with a Uppercase character (e.g. Noun/ I/ We/ He etc.)\n",
    "There must be spaces between words.\n",
    "Then the sentence must end with a full stop(.).\n",
    "Two continuous spaces are not allowed.\n",
    "Two continuous uppercase characters are not allowed.\n",
    "However the sentence can end after an uppercase character.\n",
    "Function Name : check_sentence Input : str Output : tuple (True/False,list) eg (False,[\"There must be spaces between words.\"])\n",
    "\n"
   ]
  },
  {
   "cell_type": "code",
   "execution_count": 48,
   "metadata": {},
   "outputs": [
    {
     "name": "stdout",
     "output_type": "stream",
     "text": [
      "(False, ['sentence must start with a uppercase character'], ['sentence must end with a full stop(.)'], ['There must be spaces between words.'], ['Two continuous spaces are not allowed.'])\n"
     ]
    }
   ],
   "source": [
    "def check_sentence(password):\n",
    "    password+=\"/\"\n",
    "    flag=[]\n",
    "    space=False\n",
    "    if password[0].isupper():\n",
    "        pass\n",
    "    else:\n",
    "        if flag:            \n",
    "            flag.append([\"sentence must start with a uppercase character\"])\n",
    "        else:\n",
    "            flag.append(False)\n",
    "            flag.append([\"sentence must start with a uppercase character\"])\n",
    "    if password[-1]!='.':\n",
    "        if flag:\n",
    "            \n",
    "            flag.append([\"sentence must end with a full stop(.)\"])\n",
    "        else:\n",
    "            flag.append(False)\n",
    "            flag.append([\"sentence must end with a full stop(.)\"])\n",
    "    for index, value in enumerate(password):\n",
    "        if password[index]==\" \" and password[index+1]==\" \":\n",
    "            if flag:\n",
    "                \n",
    "                flag.append([\"Two continuous spaces are not allowed.\"])\n",
    "            else:\n",
    "                flag.append(False)\n",
    "                flag.append([\"Two continuous spaces are not allowed.\"])\n",
    "        if password[index].isupper() and password[index+1].isupper():\n",
    "            if flag:\n",
    "                \n",
    "                flag.append([\"Two continuous uppercase characters are not allowed.\"])\n",
    "            else:\n",
    "                flag.append(False)\n",
    "                flag.append([\"Two continuous uppercase characters are not allowed.\"])\n",
    "        if value==\" \":\n",
    "            space=True\n",
    "        if space==False:\n",
    "            if flag:\n",
    "                \n",
    "                flag.append([\"There must be spaces between words.\"])\n",
    "            else:\n",
    "                flag.append(False)\n",
    "                flag.append([\"There must be spaces between words.\"])\n",
    "    print(tuple(flag))\n",
    "\n",
    "\n",
    "pass1=\"i am  gooD\"\n",
    "check_sentence(pass1)\n",
    "            \n",
    "        "
   ]
  },
  {
   "cell_type": "code",
   "execution_count": null,
   "metadata": {},
   "outputs": [],
   "source": [
    "9.Given an array arr[] of integers and an integer K, the task is to find the greatest contiguous sub-array of size K.\n",
    "\n",
    "Sub-array X is said to be greater than sub-array Y if the first non-matching element in both the sub-arrays has a greater value\n",
    "in X than in Y.\n",
    "\n",
    "For example : Input: arr[] = {1, 4, 3, 2, 5}, K = 4 Output: 4 3 2 5 Two subarrays are {1, 4, 3, 2} and {4, 3, 2, 5}. \n",
    "First non-matching element from array1 and array 2 : 1 and 4 as 4 is greater Hence, the greater one is {4, 3, 2, 5}\n",
    "\n",
    "Function Name : greatest_sub_array() Input : list Output : list\n"
   ]
  },
  {
   "cell_type": "code",
   "execution_count": 99,
   "metadata": {
    "scrolled": true
   },
   "outputs": [
    {
     "name": "stdout",
     "output_type": "stream",
     "text": [
      "[4, 3, 2, 5]\n"
     ]
    }
   ],
   "source": [
    "def greatest_sub_array(list1):\n",
    "    k=4\n",
    "    dic={}\n",
    "    lis=[]\n",
    "    result=[]\n",
    "    no_of_sets=(len(list1)-k)+1\n",
    "    \n",
    "    for value in range(no_of_sets):\n",
    "        lis=list1[value:k+value]\n",
    "    \n",
    "        dic.setdefault(value,lis)\n",
    "    \n",
    "    for val in dic:\n",
    "        if val<len(dic)-1:\n",
    "            if dic[val][0]<dic[val+1][0]:\n",
    "                result=dic[val+1]\n",
    "            else:\n",
    "                result=dic[val]\n",
    "    \n",
    "    print(result)\n",
    "    \n",
    "    \n",
    "x=[1, 4, 3, 2, 5]\n",
    "greatest_sub_array(x)"
   ]
  },
  {
   "cell_type": "code",
   "execution_count": null,
   "metadata": {},
   "outputs": [],
   "source": [
    "10.Given a list of N integers. The task is to eliminate the minimum number of elements such that in the resulting list the \n",
    "sum of any two adjacent values is even.\n",
    "\n",
    "Numbers = [1, 3, 5, 4, 2] Output = [1, 3, 5] Total elements removed 2 Elements to be removed [4,2]\n",
    "\n",
    "Function Name : adj_sum_even() Input : list Output : tuple(int,list)"
   ]
  },
  {
   "cell_type": "code",
   "execution_count": 107,
   "metadata": {},
   "outputs": [
    {
     "name": "stdout",
     "output_type": "stream",
     "text": [
      "[1, 3, 5, 7, 5, 5]\n"
     ]
    }
   ],
   "source": [
    "def adj_sum_even(list1):\n",
    "    \n",
    "    index=0\n",
    "    counter=0\n",
    "    while(index<len(list1)-1):\n",
    "        summ=list1[index]+list1[index+1]\n",
    "        if summ%2!=0:\n",
    "            list1.pop(index+1)\n",
    "            counter+=1\n",
    "        else:\n",
    "            index+=1\n",
    "            \n",
    "    print(list1)\n",
    "\n",
    "x=[1,3,5,6,4,7,8,5,5]\n",
    "adj_sum_even(x)\n"
   ]
  }
 ],
 "metadata": {
  "kernelspec": {
   "display_name": "Python 3",
   "language": "python",
   "name": "python3"
  },
  "language_info": {
   "codemirror_mode": {
    "name": "ipython",
    "version": 3
   },
   "file_extension": ".py",
   "mimetype": "text/x-python",
   "name": "python",
   "nbconvert_exporter": "python",
   "pygments_lexer": "ipython3",
   "version": "3.7.4"
  }
 },
 "nbformat": 4,
 "nbformat_minor": 2
}
