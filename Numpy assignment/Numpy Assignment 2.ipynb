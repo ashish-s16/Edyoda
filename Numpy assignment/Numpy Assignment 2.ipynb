{
 "cells": [
  {
   "cell_type": "markdown",
   "metadata": {},
   "source": [
    "1. Create an array and find sum of it."
   ]
  },
  {
   "cell_type": "code",
   "execution_count": 3,
   "metadata": {},
   "outputs": [
    {
     "name": "stdout",
     "output_type": "stream",
     "text": [
      "[ 1  2  3  4  5  6  7  8  9 10]\n",
      "55\n"
     ]
    }
   ],
   "source": [
    "import numpy as np\n",
    "a=np.arange(1,11)\n",
    "print(a)\n",
    "print(a.sum())"
   ]
  },
  {
   "cell_type": "markdown",
   "metadata": {},
   "source": [
    "2. Find sin of given array."
   ]
  },
  {
   "cell_type": "code",
   "execution_count": 9,
   "metadata": {},
   "outputs": [
    {
     "name": "stdout",
     "output_type": "stream",
     "text": [
      "[0.         0.5        0.70710678 0.8660254  1.        ]\n"
     ]
    }
   ],
   "source": [
    "print(np.sin(np.array((0., 30., 45., 60., 90.)) * np.pi / 180.))"
   ]
  },
  {
   "cell_type": "markdown",
   "metadata": {},
   "source": [
    "3. Find mean of matrix along row and column."
   ]
  },
  {
   "cell_type": "code",
   "execution_count": 14,
   "metadata": {},
   "outputs": [
    {
     "name": "stdout",
     "output_type": "stream",
     "text": [
      "[[12 13  5]\n",
      " [12 17 11]\n",
      " [17 13 10]] \n",
      "\n",
      "[10.         13.33333333 13.33333333] \n",
      "\n",
      "[13.66666667 14.33333333  8.66666667]\n"
     ]
    }
   ],
   "source": [
    "b=np.random.randint(1,20,(3,3))\n",
    "print(b, \"\\n\")\n",
    "print(np.mean(b, axis=1), \"\\n\")\n",
    "print(np.mean(b, axis=0))\n"
   ]
  },
  {
   "cell_type": "markdown",
   "metadata": {},
   "source": [
    "4. Find standard deviation of given array."
   ]
  },
  {
   "cell_type": "code",
   "execution_count": 22,
   "metadata": {},
   "outputs": [
    {
     "name": "stdout",
     "output_type": "stream",
     "text": [
      "[[17  5 10 15 10]\n",
      " [ 4  7  7 14 10]\n",
      " [22 17  2  8 17]\n",
      " [ 3  3 13 16  9]\n",
      " [19 15 19 17  8]\n",
      " [19  2 14 21 13]\n",
      " [17 21  4  7  8]\n",
      " [ 8 17 18 17  6]\n",
      " [11  3 20  4  8]\n",
      " [ 8 17 16  8  8]]\n",
      "[6.4776539  6.95772951 6.01747455 5.25452186 3.0016662 ]\n",
      "[4.22374242 3.38230691 7.1944423  5.23067873 4.07921561 6.61513416\n",
      " 6.46838465 5.11468474 6.11228272 4.1761226 ]\n"
     ]
    }
   ],
   "source": [
    "c=np.random.randint(2,23,(10,5))\n",
    "print(c)\n",
    "print(c.std(axis=0))\n",
    "print(c.std(axis=1))"
   ]
  },
  {
   "cell_type": "markdown",
   "metadata": {},
   "source": [
    "5. Create a 3*3 matrix and print it's transpose matrix"
   ]
  },
  {
   "cell_type": "code",
   "execution_count": 24,
   "metadata": {},
   "outputs": [
    {
     "name": "stdout",
     "output_type": "stream",
     "text": [
      "[[15 20  9 21  8]\n",
      " [18  3  9 13 18]\n",
      " [13 18  9 10 10]\n",
      " [17  3 21  9 12]\n",
      " [21 15 18  7  8]\n",
      " [ 6  9 10 21  7]\n",
      " [ 4 14  6 15 20]\n",
      " [20 11 20  2  7]\n",
      " [22 16 15  4 20]\n",
      " [ 6  6 12 18  6]] \n",
      "\n",
      "[[15 18 13 17 21  6  4 20 22  6]\n",
      " [20  3 18  3 15  9 14 11 16  6]\n",
      " [ 9  9  9 21 18 10  6 20 15 12]\n",
      " [21 13 10  9  7 21 15  2  4 18]\n",
      " [ 8 18 10 12  8  7 20  7 20  6]]\n"
     ]
    }
   ],
   "source": [
    "c=np.random.randint(2,23,(10,5))\n",
    "print(c, \"\\n\")\n",
    "print(c.T)"
   ]
  },
  {
   "cell_type": "markdown",
   "metadata": {},
   "source": [
    "6. Create an array of 3*3 and find index of max along both axis"
   ]
  },
  {
   "cell_type": "code",
   "execution_count": 29,
   "metadata": {},
   "outputs": [
    {
     "name": "stdout",
     "output_type": "stream",
     "text": [
      "[[ 3 25  3]\n",
      " [18 17 18]\n",
      " [25 18  3]]\n",
      "[2 0 1]\n",
      "[1 0 0]\n"
     ]
    }
   ],
   "source": [
    "d=np.random.randint(2,26,(3,3))\n",
    "print(d)\n",
    "print(d.argmax(axis=0))\n",
    "print(d.argmax(axis=1))"
   ]
  },
  {
   "cell_type": "markdown",
   "metadata": {},
   "source": [
    "7. find sum of two matrix."
   ]
  },
  {
   "cell_type": "code",
   "execution_count": 33,
   "metadata": {},
   "outputs": [
    {
     "name": "stdout",
     "output_type": "stream",
     "text": [
      "[[12  5 10]\n",
      " [11 20  4]\n",
      " [14  3  5]] \n",
      "\n",
      "[[ 8  4 13]\n",
      " [13 16 16]\n",
      " [14 21 14]] \n",
      "\n",
      "[[20  9 23]\n",
      " [24 36 20]\n",
      " [28 24 19]]\n"
     ]
    }
   ],
   "source": [
    "e=np.random.randint(2,23,(3,3))\n",
    "f=np.random.randint(4,24,(3,3))\n",
    "print(e,\"\\n\")\n",
    "print(f,\"\\n\")\n",
    "print(e+f)"
   ]
  },
  {
   "cell_type": "markdown",
   "metadata": {},
   "source": [
    "8. Find indexes of max element along axis=0 and axis=1 "
   ]
  },
  {
   "cell_type": "code",
   "execution_count": 35,
   "metadata": {},
   "outputs": [
    {
     "name": "stdout",
     "output_type": "stream",
     "text": [
      "[[13 13  9  4]\n",
      " [ 6  4 12  9]\n",
      " [ 5  4 11 11]\n",
      " [ 5 13 13  9]]\n",
      "[0 0 3 2]\n",
      "[0 2 2 1]\n"
     ]
    }
   ],
   "source": [
    "g=np.random.randint(2,15,(4,4))\n",
    "print(g)\n",
    "print(g.argmax(axis=0))\n",
    "print(g.argmax(axis=1))"
   ]
  },
  {
   "cell_type": "markdown",
   "metadata": {},
   "source": [
    "9. Write a program to add two arrays of different shape."
   ]
  },
  {
   "cell_type": "code",
   "execution_count": 60,
   "metadata": {},
   "outputs": [
    {
     "name": "stdout",
     "output_type": "stream",
     "text": [
      "[[11 12 13 14 15 16]\n",
      " [10 11 12 13 14 15]\n",
      " [ 9 10 11 12 13 14]] \n",
      "\n",
      "(3,)\n",
      "[[11 10  9]\n",
      " [12 11 10]\n",
      " [13 12 11]\n",
      " [14 13 12]\n",
      " [15 14 13]\n",
      " [16 15 14]]\n"
     ]
    }
   ],
   "source": [
    "h=np.array((2,3,4,5,6,7))\n",
    "i=np.array((9,8,7))\n",
    "print(h+i[:,np.newaxis], \"\\n\")\n",
    "print(i.shape)\n",
    "print(h[:, np.newaxis]+i)"
   ]
  },
  {
   "cell_type": "markdown",
   "metadata": {},
   "source": [
    "10. Try to solve a array and print a array with indices which would sort the given array."
   ]
  },
  {
   "cell_type": "code",
   "execution_count": 66,
   "metadata": {},
   "outputs": [
    {
     "name": "stdout",
     "output_type": "stream",
     "text": [
      "[13 16  7 22  8  9 17 20 19] \n",
      "\n",
      "[ 7  8  9 13 16 17 19 20 22] \n",
      "\n",
      "[2 4 5 0 1 6 8 7 3]\n"
     ]
    }
   ],
   "source": [
    "j=np.random.randint(2,24,9)\n",
    "print(j,\"\\n\")\n",
    "print(np.sort(j),\"\\n\")\n",
    "print(np.argsort(j))"
   ]
  },
  {
   "cell_type": "markdown",
   "metadata": {},
   "source": [
    "11. Try to do perform same operation mentioned in previous questions for multidimentional array along both axis."
   ]
  },
  {
   "cell_type": "code",
   "execution_count": 72,
   "metadata": {},
   "outputs": [
    {
     "name": "stdout",
     "output_type": "stream",
     "text": [
      "[[14  5 13 17]\n",
      " [19  2  9  5]\n",
      " [14 10  5 12]\n",
      " [ 5  9  5  4]] \n",
      "\n",
      "[[ 5 13 14 17]\n",
      " [ 2  5  9 19]\n",
      " [ 5 10 12 14]\n",
      " [ 4  5  5  9]] \n",
      "\n",
      "[[ 5  2  5  4]\n",
      " [14  5  5  5]\n",
      " [14  9  9 12]\n",
      " [19 10 13 17]] \n",
      "\n"
     ]
    }
   ],
   "source": [
    "j=np.random.randint(2,24,(4,4))\n",
    "print(j,\"\\n\")\n",
    "print(np.sort(j, axis=1),\"\\n\")\n",
    "print(np.sort(j, axis=0),\"\\n\")"
   ]
  },
  {
   "cell_type": "markdown",
   "metadata": {},
   "source": [
    "12. calculate multiplication of transpose and matrix itself of a 3*3 matrix."
   ]
  },
  {
   "cell_type": "code",
   "execution_count": 78,
   "metadata": {},
   "outputs": [
    {
     "name": "stdout",
     "output_type": "stream",
     "text": [
      "[[9 2 7]\n",
      " [2 5 8]\n",
      " [9 4 9]] \n",
      "\n",
      "[[9 2 9]\n",
      " [2 5 4]\n",
      " [7 8 9]] \n",
      "\n",
      "[[81  4 63]\n",
      " [ 4 25 32]\n",
      " [63 32 81]]\n"
     ]
    }
   ],
   "source": [
    "k=np.random.randint(1,10,(3,3))\n",
    "l=k.T\n",
    "print(k, \"\\n\")\n",
    "print(l, \"\\n\")\n",
    "print(k*l)"
   ]
  },
  {
   "cell_type": "markdown",
   "metadata": {},
   "source": [
    "13. Find solution for given linear equstion:"
   ]
  },
  {
   "cell_type": "code",
   "execution_count": 84,
   "metadata": {},
   "outputs": [
    {
     "name": "stdout",
     "output_type": "stream",
     "text": [
      "[[2 5]\n",
      " [4 3]] \n",
      "\n",
      "[28 81] \n",
      "\n",
      "solution =  [22.92857143 -3.57142857]\n"
     ]
    }
   ],
   "source": [
    "#2x + 5y = 28 4x + 3*y = 81\n",
    "m=np.array(((2,5),(4,3)))\n",
    "print(m,\"\\n\")\n",
    "n=np.array((28,81))\n",
    "print(n, \"\\n\")\n",
    "print(\"solution = \", np.linalg.solve(m,n))"
   ]
  },
  {
   "cell_type": "markdown",
   "metadata": {},
   "source": [
    "14. Find Rank, Trace, Inverse, Determinant of a given matrix"
   ]
  },
  {
   "cell_type": "code",
   "execution_count": 86,
   "metadata": {},
   "outputs": [
    {
     "data": {
      "text/plain": [
       "array([[23, 12, 10, 18],\n",
       "       [23, 24, 19, 17],\n",
       "       [ 6, 22, 14,  5],\n",
       "       [22,  6,  6, 13]])"
      ]
     },
     "execution_count": 86,
     "metadata": {},
     "output_type": "execute_result"
    }
   ],
   "source": [
    "o=np.random.randint(5,25,(4,4))\n",
    "o"
   ]
  },
  {
   "cell_type": "code",
   "execution_count": 89,
   "metadata": {},
   "outputs": [
    {
     "name": "stdout",
     "output_type": "stream",
     "text": [
      "rank =  4 \n",
      "\n",
      "trace =  74 \n",
      "\n",
      "Determinant =  3279.9999999999964 \n",
      "\n",
      "inverse =  [[-0.12195122 -0.03902439  0.05487805  0.19878049]\n",
      " [ 0.15853659 -0.32926829  0.29115854  0.09908537]\n",
      " [-0.29268293  0.54634146 -0.39329268 -0.15792683]\n",
      " [ 0.26829268 -0.03414634 -0.04573171 -0.23231707]]\n"
     ]
    }
   ],
   "source": [
    "print(\"rank = \", np.linalg.matrix_rank(o), \"\\n\")\n",
    "print(\"trace = \", np.trace(o), \"\\n\")\n",
    "print(\"Determinant = \", np.linalg.det(o), \"\\n\")\n",
    "print(\"inverse = \", np.linalg.inv(o))"
   ]
  },
  {
   "cell_type": "markdown",
   "metadata": {},
   "source": [
    "15. Find cube of a mtrix."
   ]
  },
  {
   "cell_type": "code",
   "execution_count": 92,
   "metadata": {},
   "outputs": [
    {
     "name": "stdout",
     "output_type": "stream",
     "text": [
      "[[ 9  6  6 22 23]\n",
      " [ 7 11  9 23 13]\n",
      " [ 8 13 12 13 10]\n",
      " [13 13 17 13 24]] \n",
      "\n",
      "[[  729   216   216 10648 12167]\n",
      " [  343  1331   729 12167  2197]\n",
      " [  512  2197  1728  2197  1000]\n",
      " [ 2197  2197  4913  2197 13824]]\n",
      "\n",
      "\n",
      "[[  729   216   216 10648 12167]\n",
      " [  343  1331   729 12167  2197]\n",
      " [  512  2197  1728  2197  1000]\n",
      " [ 2197  2197  4913  2197 13824]]\n"
     ]
    }
   ],
   "source": [
    "p=np.random.randint(6,27,(4,5))\n",
    "print(p, \"\\n\")\n",
    "print(p*p*p)\n",
    "print(\"\\n\")\n",
    "print(np.power(p,3))"
   ]
  }
 ],
 "metadata": {
  "kernelspec": {
   "display_name": "Python 3",
   "language": "python",
   "name": "python3"
  },
  "language_info": {
   "codemirror_mode": {
    "name": "ipython",
    "version": 3
   },
   "file_extension": ".py",
   "mimetype": "text/x-python",
   "name": "python",
   "nbconvert_exporter": "python",
   "pygments_lexer": "ipython3",
   "version": "3.7.4"
  }
 },
 "nbformat": 4,
 "nbformat_minor": 2
}
