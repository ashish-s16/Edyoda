{
 "cells": [
  {
   "cell_type": "markdown",
   "metadata": {},
   "source": [
    "1. Write a NumPy program to get the numpy version and show numpy build configuration."
   ]
  },
  {
   "cell_type": "code",
   "execution_count": 2,
   "metadata": {},
   "outputs": [
    {
     "name": "stdout",
     "output_type": "stream",
     "text": [
      "1.16.5\n",
      "<module 'numpy.__config__' from 'C:\\\\ProgramData\\\\Anaconda3\\\\lib\\\\site-packages\\\\numpy\\\\__config__.py'>\n"
     ]
    }
   ],
   "source": [
    "import numpy as np\n",
    "print(np.version.version)\n",
    "print(np.__config__)"
   ]
  },
  {
   "cell_type": "markdown",
   "metadata": {},
   "source": [
    "2. Create a null vector of size 10 but the fifth value which is 1."
   ]
  },
  {
   "cell_type": "code",
   "execution_count": 4,
   "metadata": {},
   "outputs": [
    {
     "name": "stdout",
     "output_type": "stream",
     "text": [
      "[0. 0. 0. 0. 1. 0. 0. 0. 0. 0.]\n"
     ]
    }
   ],
   "source": [
    "arr=np.zeros(10)\n",
    "arr[4]=1\n",
    "print(arr)"
   ]
  },
  {
   "cell_type": "markdown",
   "metadata": {},
   "source": [
    "3. Create a vector with values ranging from 10 to 49."
   ]
  },
  {
   "cell_type": "code",
   "execution_count": 4,
   "metadata": {},
   "outputs": [
    {
     "name": "stdout",
     "output_type": "stream",
     "text": [
      "[10 11 12 13 14 15 16 17 18 19 20 21 22 23 24 25 26 27 28 29 30 31 32 33\n",
      " 34 35 36 37 38 39 40 41 42 43 44 45 46 47 48 49]\n"
     ]
    }
   ],
   "source": [
    "a=np.arange(10,50)\n",
    "print(a)"
   ]
  },
  {
   "cell_type": "markdown",
   "metadata": {},
   "source": [
    "4. create two arrays and stack them vertically"
   ]
  },
  {
   "cell_type": "code",
   "execution_count": 5,
   "metadata": {},
   "outputs": [
    {
     "name": "stdout",
     "output_type": "stream",
     "text": [
      "[[ 4  6]\n",
      " [ 6  7]\n",
      " [15 14]\n",
      " [18 18]\n",
      " [13 12]]\n"
     ]
    }
   ],
   "source": [
    "b=np.random.randint(1,10,(2,2))\n",
    "c=np.random.randint(11,22,(3,2))\n",
    "d=np.vstack((b,c))\n",
    "print(d)"
   ]
  },
  {
   "cell_type": "markdown",
   "metadata": {},
   "source": [
    "5. Reverse a vector (first element becomes last)."
   ]
  },
  {
   "cell_type": "code",
   "execution_count": 19,
   "metadata": {},
   "outputs": [
    {
     "name": "stdout",
     "output_type": "stream",
     "text": [
      "[1 2 3 4 5 6 7 8 9]\n",
      "[9 8 7 6 5 4 3 2 1]\n"
     ]
    }
   ],
   "source": [
    "e=np.arange(1,10)\n",
    "f=np.flip(e)\n",
    "print(e)\n",
    "print(f)"
   ]
  },
  {
   "cell_type": "markdown",
   "metadata": {},
   "source": [
    "6. Create a 3x3 matrix with values ranging from 0 to 8"
   ]
  },
  {
   "cell_type": "code",
   "execution_count": 27,
   "metadata": {},
   "outputs": [
    {
     "name": "stdout",
     "output_type": "stream",
     "text": [
      "[0 1 2 3 4 5 6 7 8]\n",
      "[[0 1 2]\n",
      " [3 4 5]\n",
      " [6 7 8]]\n"
     ]
    }
   ],
   "source": [
    "g=np.arange(0,9)\n",
    "print(g)\n",
    "g=np.reshape(g,(3,3))\n",
    "print(g)"
   ]
  },
  {
   "cell_type": "markdown",
   "metadata": {},
   "source": [
    "7. Find indices of non-zero elements from [1,2,0,0,4,0]"
   ]
  },
  {
   "cell_type": "code",
   "execution_count": 35,
   "metadata": {},
   "outputs": [
    {
     "name": "stdout",
     "output_type": "stream",
     "text": [
      "index of non zero element = 0,1,4,"
     ]
    }
   ],
   "source": [
    "h=[1,2,0,0,4,0]\n",
    "print(\"index of non zero element = \", end=\"\")\n",
    "for index,value in enumerate(h):\n",
    "    if value!=0:\n",
    "        print(index, end=\",\")"
   ]
  },
  {
   "cell_type": "markdown",
   "metadata": {},
   "source": [
    "8. Create a 10x10 array with random values and find the minimum and maximum values."
   ]
  },
  {
   "cell_type": "code",
   "execution_count": 43,
   "metadata": {},
   "outputs": [
    {
     "name": "stdout",
     "output_type": "stream",
     "text": [
      "[[40 45 46 34 14  3 42 21 18 46]\n",
      " [18 10 24 47 13 44  9 22 30  3]\n",
      " [ 4  5 22 15 38 42 17  1 36 48]\n",
      " [ 7  1 28  2 49  7 30 25 12 15]\n",
      " [13 36  8 31 36  8  1 10  8 44]\n",
      " [28 31 14 45 11 31 43 34 27 18]\n",
      " [15 27 32 48  6 13  7 10 47 20]\n",
      " [ 2 27 32 38 26 48  8 37 24 26]\n",
      " [ 4 19 49 37 41 27 28 26 46 11]\n",
      " [ 6 26 43 31 39 42 10  7 39 29]]\n",
      "max =  49\n",
      "min =  1\n"
     ]
    }
   ],
   "source": [
    "k=np.random.randint(1,50,(10,10))\n",
    "print(k)\n",
    "print(\"max = \",np.amax(k))\n",
    "print(\"min = \",np.amin(k))"
   ]
  },
  {
   "cell_type": "markdown",
   "metadata": {},
   "source": [
    "9. Create a random vector of size 30 and find the mean value."
   ]
  },
  {
   "cell_type": "code",
   "execution_count": 37,
   "metadata": {},
   "outputs": [
    {
     "name": "stdout",
     "output_type": "stream",
     "text": [
      "[ 1  2  3  4  5  6  7  8  9 10 11 12 13 14 15 16 17 18 19 20 21 22 23 24\n",
      " 25 26 27 28 29 30]\n",
      "15.5\n"
     ]
    }
   ],
   "source": [
    "i=np.arange(1,31)\n",
    "print(i)\n",
    "print(np.mean(i))"
   ]
  },
  {
   "cell_type": "markdown",
   "metadata": {},
   "source": [
    "10. Create a 2d array with 1 on the border and 0 inside\n"
   ]
  },
  {
   "cell_type": "code",
   "execution_count": 53,
   "metadata": {},
   "outputs": [
    {
     "name": "stdout",
     "output_type": "stream",
     "text": [
      "[[1. 1. 1. 1. 1.]\n",
      " [1. 1. 1. 1. 1.]\n",
      " [1. 1. 1. 1. 1.]\n",
      " [1. 1. 1. 1. 1.]\n",
      " [1. 1. 1. 1. 1.]]\n",
      "[[1. 1. 1. 1. 1.]\n",
      " [1. 0. 0. 0. 1.]\n",
      " [1. 0. 0. 0. 1.]\n",
      " [1. 0. 0. 0. 1.]\n",
      " [1. 1. 1. 1. 1.]]\n"
     ]
    }
   ],
   "source": [
    "j=np.ones((5,5))\n",
    "print(j)\n",
    "\n",
    "j[1:-1,1:-1]=0\n",
    "print(j)"
   ]
  },
  {
   "cell_type": "markdown",
   "metadata": {},
   "source": [
    "11. How to add a border (filled with 0's) around an existing array"
   ]
  },
  {
   "cell_type": "code",
   "execution_count": 60,
   "metadata": {},
   "outputs": [
    {
     "data": {
      "text/plain": [
       "array([[0., 0., 0., 0., 0., 0., 0.],\n",
       "       [0., 1., 1., 1., 1., 1., 0.],\n",
       "       [0., 1., 1., 1., 1., 1., 0.],\n",
       "       [0., 1., 1., 1., 1., 1., 0.],\n",
       "       [0., 1., 1., 1., 1., 1., 0.],\n",
       "       [0., 1., 1., 1., 1., 1., 0.],\n",
       "       [0., 0., 0., 0., 0., 0., 0.]])"
      ]
     },
     "execution_count": 60,
     "metadata": {},
     "output_type": "execute_result"
    }
   ],
   "source": [
    "k=np.ones((5,5))\n",
    "np.pad(k, (1,1), mode = 'constant')"
   ]
  },
  {
   "cell_type": "markdown",
   "metadata": {},
   "source": [
    "12. Create a 5x5 matrix with values 1,2,3,4 just below the diagonal"
   ]
  },
  {
   "cell_type": "code",
   "execution_count": 63,
   "metadata": {},
   "outputs": [
    {
     "name": "stdout",
     "output_type": "stream",
     "text": [
      "[[0. 0. 0. 0. 0.]\n",
      " [1. 0. 0. 0. 0.]\n",
      " [0. 2. 0. 0. 0.]\n",
      " [0. 0. 3. 0. 0.]\n",
      " [0. 0. 0. 4. 0.]]\n"
     ]
    }
   ],
   "source": [
    "l=np.zeros((5,5))\n",
    "for i in range(1,5):\n",
    "    l[i][i-1]=i\n",
    "print(l)"
   ]
  },
  {
   "cell_type": "markdown",
   "metadata": {},
   "source": [
    "13. Create a 5*5 matrix with random values and normalize it."
   ]
  },
  {
   "cell_type": "code",
   "execution_count": 3,
   "metadata": {},
   "outputs": [
    {
     "name": "stdout",
     "output_type": "stream",
     "text": [
      "[[0.79121853 0.78027614 0.26472897 0.82594969 0.54057746]\n",
      " [0.33775101 0.74658721 0.70013936 0.70670109 1.        ]\n",
      " [0.12266251 0.75876861 0.94437459 0.5754496  0.1376047 ]\n",
      " [0.18370434 0.41257724 0.         0.8030731  0.69388355]\n",
      " [0.76399272 0.78996531 0.21147197 0.09702802 0.3606453 ]]\n"
     ]
    }
   ],
   "source": [
    "import numpy as np\n",
    "\n",
    "m = np.random.random((5,5))\n",
    "n= (a - a.min())/(a.max()-a.min())\n",
    "print(n)\n"
   ]
  },
  {
   "cell_type": "markdown",
   "metadata": {},
   "source": [
    "14. How to find common values between two arrays"
   ]
  },
  {
   "cell_type": "code",
   "execution_count": 11,
   "metadata": {},
   "outputs": [
    {
     "name": "stdout",
     "output_type": "stream",
     "text": [
      "[[ 4 19  1  7  8 19 11  3 11 12]\n",
      " [12 15  5 20  8 18 15 10 15 18]\n",
      " [ 9 20  6  5 15  6  2 17  4  7]\n",
      " [ 8  9 13 15 14  7  3 12 18 13]\n",
      " [12 16 11 11 20 18  4 18 11 15]]\n",
      "\n",
      "[[12 10  7 19  7 20 12 15  2 15]\n",
      " [20 14  7 12  6  1 16  9  9 18]\n",
      " [11 15 19  7 11 11 17  7  7 20]\n",
      " [16  4 18  4 17 20 15 15 17 16]\n",
      " [ 3 13 16  7 11 18 17  1 11 15]] \n",
      "\n",
      "common values  [ 1  2  3  4  6  7  9 10 11 12 13 14 15 16 17 18 19 20]\n"
     ]
    }
   ],
   "source": [
    "o=np.random.randint(1,21,(5,10))\n",
    "p=np.random.randint(1,21,(5,10))\n",
    "print(o)\n",
    "print()\n",
    "print(p, \"\\n\")\n",
    "print(\"common values \", np.intersect1d(o,p))"
   ]
  },
  {
   "cell_type": "markdown",
   "metadata": {},
   "source": [
    "15. Consider a generator function that generates 10 integers and use it to build an array"
   ]
  },
  {
   "cell_type": "code",
   "execution_count": 12,
   "metadata": {},
   "outputs": [
    {
     "name": "stdout",
     "output_type": "stream",
     "text": [
      "[0 1 2 3 4 5 6 7 8 9]\n"
     ]
    }
   ],
   "source": [
    "def generator():\n",
    "    q = np.array(np.arange(10))\n",
    "    return q\n",
    "\n",
    "print(generator())"
   ]
  },
  {
   "cell_type": "markdown",
   "metadata": {},
   "source": [
    "16. Subtract the mean of each row of a matrix"
   ]
  },
  {
   "cell_type": "code",
   "execution_count": 43,
   "metadata": {},
   "outputs": [
    {
     "name": "stdout",
     "output_type": "stream",
     "text": [
      "[[0.83925279 0.56811061 0.76086462 0.15980631 0.71178566]\n",
      " [0.90192488 0.77950678 0.80074812 0.11522967 0.76371438]\n",
      " [0.61653176 0.53831009 0.5015355  0.00733768 0.79626574]\n",
      " [0.98553605 0.99392451 0.13801976 0.14372778 0.89701369]\n",
      " [0.7190047  0.74636379 0.23667757 0.09398866 0.33174383]\n",
      " [0.49876342 0.08404513 0.80357209 0.67052543 0.67306425]\n",
      " [0.6491193  0.53799825 0.55256675 0.13415758 0.41726345]\n",
      " [0.95632547 0.09117056 0.77600815 0.55150046 0.8640254 ]\n",
      " [0.71720482 0.26171909 0.66812968 0.01033446 0.97945504]\n",
      " [0.40814974 0.26823001 0.16871806 0.33874824 0.617842  ]] \n",
      "\n",
      "means=  [0.607964   0.67222477 0.49199616 0.63164436 0.42555571 0.54599407\n",
      " 0.45822107 0.64780601 0.52736862 0.36033761] \n",
      "\n",
      "array after mean  [[0.83925279 0.56811061 0.76086462 0.15980631 0.71178566]\n",
      " [0.90192488 0.77950678 0.80074812 0.11522967 0.76371438]\n",
      " [0.61653176 0.53831009 0.5015355  0.00733768 0.79626574]\n",
      " [0.98553605 0.99392451 0.13801976 0.14372778 0.89701369]\n",
      " [0.7190047  0.74636379 0.23667757 0.09398866 0.33174383]\n",
      " [0.49876342 0.08404513 0.80357209 0.67052543 0.67306425]\n",
      " [0.6491193  0.53799825 0.55256675 0.13415758 0.41726345]\n",
      " [0.95632547 0.09117056 0.77600815 0.55150046 0.8640254 ]\n",
      " [0.71720482 0.26171909 0.66812968 0.01033446 0.97945504]\n",
      " [0.40814974 0.26823001 0.16871806 0.33874824 0.617842  ]]\n"
     ]
    }
   ],
   "source": [
    "r = np.random.random((10,5))\n",
    "print(r, \"\\n\")\n",
    "means = np.mean(r, axis = 1)\n",
    "print(\"means= \", means, \"\\n\")\n",
    "for i in range(r.shape[0]):\n",
    "    arr[i]=arr[i]-means[i]\n",
    "print(\"array after mean \", r)    "
   ]
  },
  {
   "cell_type": "markdown",
   "metadata": {},
   "source": [
    "17. Considering two arrays with shape (1,3) and (3,1), how to compute their sum using an iterator?"
   ]
  },
  {
   "cell_type": "code",
   "execution_count": 44,
   "metadata": {},
   "outputs": [
    {
     "name": "stdout",
     "output_type": "stream",
     "text": [
      "[[2 3 5]] \n",
      "\n",
      "[[9]\n",
      " [6]\n",
      " [8]] \n",
      "\n",
      "[[11  8 10]\n",
      " [12  9 11]\n",
      " [14 11 13]]\n"
     ]
    }
   ],
   "source": [
    "s =np.random.randint(0,10,(1,3))\n",
    "t=np.random.randint(0,10,(3,1))\n",
    "print(s, \"\\n\")\n",
    "print(t, \"\\n\")\n",
    "sums = []\n",
    "for i in np.nditer(s):\n",
    "    for j in np.nditer(t):\n",
    "        sums.append(i+j)\n",
    "print(np.array(sums).reshape(3,3))"
   ]
  },
  {
   "cell_type": "markdown",
   "metadata": {},
   "source": [
    "18. Write a NumPy program to create a vector of length 10 with values evenly distributed between 5 and 50"
   ]
  },
  {
   "cell_type": "code",
   "execution_count": 48,
   "metadata": {},
   "outputs": [
    {
     "name": "stdout",
     "output_type": "stream",
     "text": [
      "[ 5 10 15 20 25 30 35 40 45 50]\n",
      "[ 5. 10. 15. 20. 25. 30. 35. 40. 45. 50.]\n"
     ]
    }
   ],
   "source": [
    "u=np.arange(5,51,5)\n",
    "print(u)\n",
    "v=np.linspace(5,50,10)\n",
    "print(v)"
   ]
  }
 ],
 "metadata": {
  "kernelspec": {
   "display_name": "Python 3",
   "language": "python",
   "name": "python3"
  },
  "language_info": {
   "codemirror_mode": {
    "name": "ipython",
    "version": 3
   },
   "file_extension": ".py",
   "mimetype": "text/x-python",
   "name": "python",
   "nbconvert_exporter": "python",
   "pygments_lexer": "ipython3",
   "version": "3.7.4"
  }
 },
 "nbformat": 4,
 "nbformat_minor": 2
}
