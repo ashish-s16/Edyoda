{
 "cells": [
  {
   "cell_type": "code",
   "execution_count": 1,
   "metadata": {},
   "outputs": [],
   "source": [
    "import pandas as pd\n",
    "import numpy as np"
   ]
  },
  {
   "cell_type": "code",
   "execution_count": 2,
   "metadata": {},
   "outputs": [],
   "source": [
    "data = pd.read_csv(\"google_review_ratings.csv\", index_col = 'User')\n"
   ]
  },
  {
   "cell_type": "code",
   "execution_count": 3,
   "metadata": {},
   "outputs": [
    {
     "name": "stdout",
     "output_type": "stream",
     "text": [
      "dropping column:-  Unnamed: 25\n"
     ]
    }
   ],
   "source": [
    "drop_col = []\n",
    "for col in data.columns:\n",
    "    if data[col].notna().sum() < len(data)*0.2:  #if values in a column is less than 20% of entries\n",
    "        print(\"dropping column:- \", col)\n",
    "        data.drop(columns=col, inplace=True)"
   ]
  },
  {
   "cell_type": "code",
   "execution_count": 4,
   "metadata": {},
   "outputs": [],
   "source": [
    "# We do not have a target column. We will create this column based on user ratings in gym\n",
    "# We assume if a person has rated more than 3, he will take the membership\n",
    "\n",
    "data['member'] = data['Category 19'].map(lambda a: 0.0 if a<3 else 1.0)  # 0 means not joined, 1 means joined the membership"
   ]
  },
  {
   "cell_type": "code",
   "execution_count": 5,
   "metadata": {},
   "outputs": [],
   "source": [
    "data.drop(index=['User 2713'], inplace=True)  # dropping since the Category 11 value at index 2713 is a wierd string\n",
    "\n",
    "data['Category 11'] = data['Category 11'].astype('float64')  # changing the datatype of Category 11 from object to float64\n"
   ]
  },
  {
   "cell_type": "code",
   "execution_count": 6,
   "metadata": {},
   "outputs": [],
   "source": [
    "correlation_data = data.corr()"
   ]
  },
  {
   "cell_type": "code",
   "execution_count": 7,
   "metadata": {},
   "outputs": [
    {
     "data": {
      "text/plain": [
       "0.9081093707423153"
      ]
     },
     "execution_count": 7,
     "metadata": {},
     "output_type": "execute_result"
    }
   ],
   "source": [
    "correlation_data.loc['Category 19']['member']   #Very high correlation since target data is derived from it"
   ]
  },
  {
   "cell_type": "markdown",
   "metadata": {},
   "source": [
    "* There is a very high correlation of Category 19 with membership. About 90%\n",
    "* Prediction will be very biased if this data is used\n",
    "* we will drop Category 19 since target feature (member) is derived from it "
   ]
  },
  {
   "cell_type": "code",
   "execution_count": 8,
   "metadata": {},
   "outputs": [
    {
     "data": {
      "text/plain": [
       "Category 1     0.113006\n",
       "Category 2     0.024852\n",
       "Category 3    -0.046621\n",
       "Category 4    -0.128938\n",
       "Category 5    -0.181834\n",
       "Category 6    -0.179455\n",
       "Category 7    -0.204397\n",
       "Category 8    -0.189816\n",
       "Category 9    -0.183263\n",
       "Category 10   -0.208952\n",
       "Category 11   -0.124995\n",
       "Category 12   -0.011600\n",
       "Category 13    0.022885\n",
       "Category 14    0.065157\n",
       "Category 15    0.035950\n",
       "Category 16    0.039403\n",
       "Category 17    0.230967\n",
       "Category 18    0.318253\n",
       "Category 20    0.185782\n",
       "Category 21    0.107919\n",
       "Category 22    0.024286\n",
       "Category 23    0.015564\n",
       "Category 24    0.052283\n",
       "member         1.000000\n",
       "Name: member, dtype: float64"
      ]
     },
     "execution_count": 8,
     "metadata": {},
     "output_type": "execute_result"
    }
   ],
   "source": [
    "data.drop(columns=['Category 19'], inplace=True)\n",
    "data.corr()['member']"
   ]
  },
  {
   "cell_type": "markdown",
   "metadata": {},
   "source": [
    "* Now none of the data shows a good co-relation with membership. Now we will check if we can derive a good "
   ]
  },
  {
   "cell_type": "code",
   "execution_count": 17,
   "metadata": {},
   "outputs": [],
   "source": [
    "from sklearn.model_selection import train_test_split\n",
    "from sklearn.ensemble import RandomForestClassifier\n",
    "from sklearn.naive_bayes import GaussianNB\n",
    "from sklearn.linear_model import LogisticRegression\n",
    "from sklearn.pipeline import make_pipeline\n",
    "from sklearn.impute import SimpleImputer"
   ]
  },
  {
   "cell_type": "code",
   "execution_count": 16,
   "metadata": {},
   "outputs": [],
   "source": [
    "feature_data = data.drop(columns=['member'])\n",
    "target_data = data.member\n",
    "trainX, testX, trainY, testY = train_test_split(feature_data, target_data, random_state=42)"
   ]
  },
  {
   "cell_type": "code",
   "execution_count": 18,
   "metadata": {},
   "outputs": [],
   "source": [
    "models = {\"Random Forest\": RandomForestClassifier(), \"Logistic Regression\": LogisticRegression(), \"Naive Bayes\": GaussianNB()}"
   ]
  },
  {
   "cell_type": "code",
   "execution_count": 20,
   "metadata": {},
   "outputs": [
    {
     "name": "stdout",
     "output_type": "stream",
     "text": [
      "Random Forest 0.968475073313783\n",
      "Logistic Regression 0.9230205278592375\n",
      "Naive Bayes 0.8262463343108505\n"
     ]
    }
   ],
   "source": [
    "for name, model in models.items():\n",
    "    pipeline = make_pipeline(SimpleImputer(strategy='most_frequent'), model)\n",
    "    pipeline.fit(trainX,trainY)\n",
    "    print(name, pipeline.score(testX, testY))"
   ]
  },
  {
   "cell_type": "markdown",
   "metadata": {},
   "source": [
    "* Since we did not had the target column, we derived it from Ratings of gym i.e Category 19\n",
    "* Now we needed to drop Category 19 since the target column was derived from it otherwise it would highly effect our predictions\n",
    "* Used Simpleimputer to fill in some of the nan values in 2 columns\n",
    "* Used different models to find out the best score\n",
    "* We find that we are getting about 97 % accuracy from Random Forest"
   ]
  }
 ],
 "metadata": {
  "kernelspec": {
   "display_name": "Python 3",
   "language": "python",
   "name": "python3"
  },
  "language_info": {
   "codemirror_mode": {
    "name": "ipython",
    "version": 3
   },
   "file_extension": ".py",
   "mimetype": "text/x-python",
   "name": "python",
   "nbconvert_exporter": "python",
   "pygments_lexer": "ipython3",
   "version": "3.7.4"
  }
 },
 "nbformat": 4,
 "nbformat_minor": 2
}
