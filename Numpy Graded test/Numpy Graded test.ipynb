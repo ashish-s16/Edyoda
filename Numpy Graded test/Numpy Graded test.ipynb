{
 "cells": [
  {
   "cell_type": "markdown",
   "metadata": {},
   "source": [
    "1.Count the number of times each value appears in an array of integers."
   ]
  },
  {
   "cell_type": "code",
   "execution_count": 2,
   "metadata": {},
   "outputs": [
    {
     "data": {
      "text/plain": [
       "array([6, 5, 2, 3, 7, 6, 5, 4, 7, 6, 2, 6, 6, 3, 7])"
      ]
     },
     "execution_count": 2,
     "metadata": {},
     "output_type": "execute_result"
    }
   ],
   "source": [
    "import numpy as np\n",
    "a=np.random.randint(1,8,15)\n",
    "a"
   ]
  },
  {
   "cell_type": "code",
   "execution_count": 23,
   "metadata": {},
   "outputs": [
    {
     "data": {
      "text/plain": [
       "(array([1, 2, 3, 5, 6, 7]), array([3, 4, 1, 4, 2, 1], dtype=int64))"
      ]
     },
     "execution_count": 23,
     "metadata": {},
     "output_type": "execute_result"
    }
   ],
   "source": [
    "b=np.unique(a, return_counts=True)\n",
    "b"
   ]
  },
  {
   "cell_type": "markdown",
   "metadata": {},
   "source": [
    "2. Given 9 integers. You have to convert them into 3*3 Numpy array using Reshape function."
   ]
  },
  {
   "cell_type": "code",
   "execution_count": 26,
   "metadata": {},
   "outputs": [
    {
     "name": "stdout",
     "output_type": "stream",
     "text": [
      "[[ 2  3  4]\n",
      " [ 3  2  4]\n",
      " [ 4  3 56]]\n"
     ]
    }
   ],
   "source": [
    "c=np.array((2,3,4,3,2,4,4,3,56))\n",
    "print(c.reshape(3,3))"
   ]
  },
  {
   "cell_type": "markdown",
   "metadata": {},
   "source": [
    "3. How to find the memory size of any array"
   ]
  },
  {
   "cell_type": "code",
   "execution_count": 29,
   "metadata": {},
   "outputs": [
    {
     "name": "stdout",
     "output_type": "stream",
     "text": [
      "[[13  3 14 11 11]\n",
      " [ 2  1  2  9 11]\n",
      " [ 3  9 10 12 10]\n",
      " [ 2  5  6 11  6]\n",
      " [ 2  2  3 10  6]]\n",
      "100\n"
     ]
    }
   ],
   "source": [
    "d=np.random.randint(1,15,(5,5))\n",
    "print(d)\n",
    "print(d.nbytes)"
   ]
  },
  {
   "cell_type": "markdown",
   "metadata": {},
   "source": [
    "4. Create a 2D array of size 10 by 10 with 1 on the border and 0 inside"
   ]
  },
  {
   "cell_type": "code",
   "execution_count": 41,
   "metadata": {},
   "outputs": [
    {
     "name": "stdout",
     "output_type": "stream",
     "text": [
      "[[1. 1. 1. 1. 1. 1. 1. 1. 1. 1.]\n",
      " [1. 0. 0. 0. 0. 0. 0. 0. 0. 1.]\n",
      " [1. 0. 0. 0. 0. 0. 0. 0. 0. 1.]\n",
      " [1. 0. 0. 0. 0. 0. 0. 0. 0. 1.]\n",
      " [1. 0. 0. 0. 0. 0. 0. 0. 0. 1.]\n",
      " [1. 0. 0. 0. 0. 0. 0. 0. 0. 1.]\n",
      " [1. 0. 0. 0. 0. 0. 0. 0. 0. 1.]\n",
      " [1. 0. 0. 0. 0. 0. 0. 0. 0. 1.]\n",
      " [1. 0. 0. 0. 0. 0. 0. 0. 0. 1.]\n",
      " [1. 1. 1. 1. 1. 1. 1. 1. 1. 1.]]\n"
     ]
    }
   ],
   "source": [
    "e=np.zeros((8,8))\n",
    "\n",
    "print(np.pad(e,1,'constant',constant_values=1))"
   ]
  },
  {
   "cell_type": "markdown",
   "metadata": {},
   "source": [
    "5. create a 8x8 matrix and fill it with a checkerboard pattern."
   ]
  },
  {
   "cell_type": "code",
   "execution_count": 48,
   "metadata": {},
   "outputs": [
    {
     "name": "stdout",
     "output_type": "stream",
     "text": [
      "[[0. 1. 0. 1. 0. 1. 0. 1.]\n",
      " [1. 0. 1. 0. 1. 0. 1. 0.]\n",
      " [0. 1. 0. 1. 0. 1. 0. 1.]\n",
      " [1. 0. 1. 0. 1. 0. 1. 0.]\n",
      " [0. 1. 0. 1. 0. 1. 0. 1.]\n",
      " [1. 0. 1. 0. 1. 0. 1. 0.]\n",
      " [0. 1. 0. 1. 0. 1. 0. 1.]\n",
      " [1. 0. 1. 0. 1. 0. 1. 0.]]\n"
     ]
    }
   ],
   "source": [
    "f=np.zeros((8,8))\n",
    "f[1::2,::2]=1\n",
    "f[0::2,1::2]=1\n",
    "print(f)"
   ]
  },
  {
   "cell_type": "code",
   "execution_count": null,
   "metadata": {},
   "outputs": [],
   "source": [
    "6. Normalize a 5x5 random matrix. \n",
    "normalization formula : ((a-mean(a))/std(a))\n",
    "    "
   ]
  },
  {
   "cell_type": "code",
   "execution_count": 49,
   "metadata": {},
   "outputs": [
    {
     "name": "stdout",
     "output_type": "stream",
     "text": [
      "[[ 2.06414682 -4.83688136 -0.4005061  -3.35808961]\n",
      " [-2.86515902  0.58535507  4.52879975  0.58535507]\n",
      " [ 4.03586916 -2.86515902  1.57121624  1.07828565]\n",
      " [-2.86515902  4.03586916 -4.34395078  3.05000799]]\n"
     ]
    }
   ],
   "source": [
    "g=np.random.randint(2,22,(4,4))\n",
    "print((g-np.mean(g))/np.std(a))"
   ]
  },
  {
   "cell_type": "markdown",
   "metadata": {},
   "source": [
    "7.Given a 1D array in range (0,11), negate all elements which are between 3 and 8, in place"
   ]
  },
  {
   "cell_type": "code",
   "execution_count": 4,
   "metadata": {},
   "outputs": [
    {
     "name": "stdout",
     "output_type": "stream",
     "text": [
      "[ 0  1  2  3 -4 -5 -6 -7  8  9 10]\n"
     ]
    }
   ],
   "source": [
    "h=np.arange(0,11)\n",
    "for val in h:\n",
    "    if val>3 and val<8:\n",
    "        h[val]=(-1)*val\n",
    "print(h)"
   ]
  },
  {
   "cell_type": "markdown",
   "metadata": {},
   "source": [
    "8. How to get the dates of yesterday, today and tomorrow?"
   ]
  },
  {
   "cell_type": "code",
   "execution_count": 5,
   "metadata": {},
   "outputs": [
    {
     "name": "stdout",
     "output_type": "stream",
     "text": [
      "Yesterday :  2020-02-17\n",
      "Today :  2020-02-18\n",
      "Tomorrow :  2020-02-19\n"
     ]
    }
   ],
   "source": [
    "import datetime \n",
    "today = datetime.date.today()\n",
    "yesterday = today - datetime.timedelta(days = 1)\n",
    "tomorrow = today + datetime.timedelta(days = 1) \n",
    "print('Yesterday : ',yesterday)\n",
    "print('Today : ',today)\n",
    "print('Tomorrow : ',tomorrow)\n"
   ]
  },
  {
   "cell_type": "markdown",
   "metadata": {},
   "source": [
    "9. Generate two arrays of size 2X4 & 3X3, find difference between them."
   ]
  },
  {
   "cell_type": "code",
   "execution_count": 6,
   "metadata": {},
   "outputs": [
    {
     "ename": "ValueError",
     "evalue": "operands could not be broadcast together with shapes (2,4) (3,3) ",
     "output_type": "error",
     "traceback": [
      "\u001b[1;31m---------------------------------------------------------------------------\u001b[0m",
      "\u001b[1;31mValueError\u001b[0m                                Traceback (most recent call last)",
      "\u001b[1;32m<ipython-input-6-19f18a87a842>\u001b[0m in \u001b[0;36m<module>\u001b[1;34m\u001b[0m\n\u001b[0;32m      1\u001b[0m \u001b[0mi\u001b[0m\u001b[1;33m=\u001b[0m\u001b[0mnp\u001b[0m\u001b[1;33m.\u001b[0m\u001b[0mrandom\u001b[0m\u001b[1;33m.\u001b[0m\u001b[0mrandint\u001b[0m\u001b[1;33m(\u001b[0m\u001b[1;36m10\u001b[0m\u001b[1;33m,\u001b[0m\u001b[1;36m25\u001b[0m\u001b[1;33m,\u001b[0m\u001b[1;33m(\u001b[0m\u001b[1;36m2\u001b[0m\u001b[1;33m,\u001b[0m\u001b[1;36m4\u001b[0m\u001b[1;33m)\u001b[0m\u001b[1;33m)\u001b[0m\u001b[1;33m\u001b[0m\u001b[1;33m\u001b[0m\u001b[0m\n\u001b[0;32m      2\u001b[0m \u001b[0mj\u001b[0m\u001b[1;33m=\u001b[0m\u001b[0mnp\u001b[0m\u001b[1;33m.\u001b[0m\u001b[0mrandom\u001b[0m\u001b[1;33m.\u001b[0m\u001b[0mrandint\u001b[0m\u001b[1;33m(\u001b[0m\u001b[1;36m2\u001b[0m\u001b[1;33m,\u001b[0m\u001b[1;36m23\u001b[0m\u001b[1;33m,\u001b[0m\u001b[1;33m(\u001b[0m\u001b[1;36m3\u001b[0m\u001b[1;33m,\u001b[0m\u001b[1;36m3\u001b[0m\u001b[1;33m)\u001b[0m\u001b[1;33m)\u001b[0m\u001b[1;33m\u001b[0m\u001b[1;33m\u001b[0m\u001b[0m\n\u001b[1;32m----> 3\u001b[1;33m \u001b[0mprint\u001b[0m\u001b[1;33m(\u001b[0m\u001b[0mi\u001b[0m\u001b[1;33m-\u001b[0m\u001b[0mj\u001b[0m\u001b[1;33m)\u001b[0m\u001b[1;33m\u001b[0m\u001b[1;33m\u001b[0m\u001b[0m\n\u001b[0m",
      "\u001b[1;31mValueError\u001b[0m: operands could not be broadcast together with shapes (2,4) (3,3) "
     ]
    }
   ],
   "source": [
    "i=np.random.randint(10,25,(2,4))\n",
    "j=np.random.randint(2,23,(3,3))\n",
    "print(i-j)"
   ]
  },
  {
   "cell_type": "markdown",
   "metadata": {},
   "source": [
    "10. Given 1d array of ['cat','dog','rat'], genrate 100 elements of 1d array consisting of the above 3 value ?"
   ]
  },
  {
   "cell_type": "code",
   "execution_count": 8,
   "metadata": {},
   "outputs": [
    {
     "data": {
      "text/plain": [
       "array(['dog', 'rat', 'cat', 'rat', 'rat', 'rat', 'dog', 'rat', 'rat',\n",
       "       'cat', 'cat', 'rat', 'rat', 'dog', 'dog', 'rat', 'dog', 'cat',\n",
       "       'cat', 'dog', 'dog', 'cat', 'dog', 'cat', 'dog', 'cat', 'cat',\n",
       "       'cat', 'dog', 'rat', 'dog', 'dog', 'cat', 'rat', 'cat', 'rat',\n",
       "       'rat', 'dog', 'cat', 'dog', 'cat', 'dog', 'dog', 'cat', 'dog',\n",
       "       'rat', 'dog', 'cat', 'dog', 'dog', 'rat', 'rat', 'dog', 'dog',\n",
       "       'rat', 'dog', 'dog', 'cat', 'cat', 'rat', 'rat', 'dog', 'rat',\n",
       "       'rat', 'rat', 'dog', 'dog', 'dog', 'rat', 'cat', 'dog', 'dog',\n",
       "       'cat', 'cat', 'rat', 'rat', 'rat', 'rat', 'cat', 'rat', 'rat',\n",
       "       'dog', 'rat', 'rat', 'rat', 'cat', 'rat', 'dog', 'dog', 'cat',\n",
       "       'cat', 'cat', 'rat', 'dog', 'dog', 'dog', 'cat', 'dog', 'cat',\n",
       "       'cat'], dtype='<U3')"
      ]
     },
     "execution_count": 8,
     "metadata": {},
     "output_type": "execute_result"
    }
   ],
   "source": [
    "k=np.random.choice(['cat','dog','rat'],100)\n",
    "k"
   ]
  },
  {
   "cell_type": "markdown",
   "metadata": {},
   "source": [
    "11. Create a vector of size 10 with values ranging from 0 to 1, both excluded without manually deducing the values"
   ]
  },
  {
   "cell_type": "code",
   "execution_count": 9,
   "metadata": {},
   "outputs": [
    {
     "name": "stdout",
     "output_type": "stream",
     "text": [
      "[0.86365574 0.57782682 0.56844197 0.94489766 0.22086225 0.25139965\n",
      " 0.04213915 0.54502192 0.70380058 0.08013807]\n"
     ]
    }
   ],
   "source": [
    "l=np.random.random(10)\n",
    "print(l)"
   ]
  },
  {
   "cell_type": "markdown",
   "metadata": {},
   "source": [
    "12. Given a two dimensional array, how to extract unique rows?"
   ]
  },
  {
   "cell_type": "code",
   "execution_count": 10,
   "metadata": {},
   "outputs": [
    {
     "data": {
      "text/plain": [
       "array([[68, 66, 65, 39],\n",
       "       [76, 68, 81,  3],\n",
       "       [20, 59, 96, 74],\n",
       "       [ 6,  2, 62,  9]])"
      ]
     },
     "execution_count": 10,
     "metadata": {},
     "output_type": "execute_result"
    }
   ],
   "source": [
    "m=np.random.randint(1,100,(4,4))\n",
    "m"
   ]
  },
  {
   "cell_type": "code",
   "execution_count": 12,
   "metadata": {},
   "outputs": [
    {
     "name": "stdout",
     "output_type": "stream",
     "text": [
      "row 1=  [68 66 65 39]\n",
      "row 2=  [76 68 81  3]\n",
      "row 3=  [20 59 96 74]\n",
      "row 4=  [ 6  2 62  9]\n"
     ]
    }
   ],
   "source": [
    "count=1\n",
    "for values in m:\n",
    "    print(\"row {}= \".format(count),values)\n",
    "    count+=1"
   ]
  },
  {
   "cell_type": "markdown",
   "metadata": {},
   "source": [
    "13. Create a structured array with x and y coordinates covering the [0,1]x[0,1] area."
   ]
  },
  {
   "cell_type": "code",
   "execution_count": null,
   "metadata": {},
   "outputs": [],
   "source": []
  },
  {
   "cell_type": "markdown",
   "metadata": {},
   "source": [
    "14. How to find the closest value (to a given scalar) in a vector?"
   ]
  },
  {
   "cell_type": "code",
   "execution_count": 15,
   "metadata": {},
   "outputs": [
    {
     "name": "stdout",
     "output_type": "stream",
     "text": [
      "34\n",
      "[63 30 13 63 43 49 53 27 51 29 31 24]\n",
      "closet val is 3 to 31\n"
     ]
    }
   ],
   "source": [
    "scaler=int(input())\n",
    "n=np.random.randint(12,69,12)\n",
    "dif=abs(scaler-n[0])\n",
    "new=n[0]\n",
    "for val in n:\n",
    "    if dif>abs(scaler-val):\n",
    "        dif=(scaler-val)\n",
    "        new=val\n",
    "print(n)\n",
    "print(\"closet val is {} to {}\".format(dif,new))"
   ]
  },
  {
   "cell_type": "markdown",
   "metadata": {},
   "source": [
    "15. Consider a random vector with shape (10,2) representing coordinates, find point by point distances. Use euclidian distance."
   ]
  },
  {
   "cell_type": "code",
   "execution_count": 18,
   "metadata": {},
   "outputs": [
    {
     "name": "stdout",
     "output_type": "stream",
     "text": [
      "[[14 42]\n",
      " [19 31]\n",
      " [44 32]\n",
      " [17 11]\n",
      " [25 10]\n",
      " [22 39]\n",
      " [40 49]\n",
      " [41 15]\n",
      " [18 24]\n",
      " [34 16]]\n"
     ]
    }
   ],
   "source": [
    "import math\n",
    "o=np.random.randint(10,50,(10,2))\n",
    "print(o)\n"
   ]
  },
  {
   "cell_type": "code",
   "execution_count": 19,
   "metadata": {},
   "outputs": [
    {
     "name": "stdout",
     "output_type": "stream",
     "text": [
      "distance between [14 42] and [19 31] is 9.797958971132712\n",
      "distance between [19 31] and [44 32] is 24.979991993593593\n",
      "distance between [44 32] and [17 11] is 16.97056274847714\n",
      "distance between [17 11] and [25 10] is 7.937253933193772\n",
      "distance between [25 10] and [22 39] is 28.844410203711913\n",
      "distance between [22 39] and [40 49] is 14.966629547095765\n",
      "distance between [40 49] and [41 15] is 33.98529093593286\n",
      "distance between [41 15] and [18 24] is 21.166010488516726\n",
      "distance between [18 24] and [34 16] is 13.856406460551018\n"
     ]
    }
   ],
   "source": [
    "for index in range(len(o)-1):\n",
    "    dis=((o[index+1][1]-o[index][1])**2)-((o[index+1][0]-o[index][0])**2)\n",
    "    dist=math.sqrt(abs(dis))\n",
    "    print(\"distance between {} and {} is {}\".format(o[index],o[index+1],dist))"
   ]
  },
  {
   "cell_type": "markdown",
   "metadata": {},
   "source": [
    "16. How to sort an array by the nth column?"
   ]
  },
  {
   "cell_type": "code",
   "execution_count": 43,
   "metadata": {},
   "outputs": [
    {
     "name": "stdout",
     "output_type": "stream",
     "text": [
      "[[40 43 49 39]\n",
      " [20 49 40 43]\n",
      " [20 17 44 14]\n",
      " [28 13 26 46]]\n",
      "Enter the column to sort 1\n",
      "[[28 13 26 46]\n",
      " [20 17 44 14]\n",
      " [40 43 49 39]\n",
      " [20 49 40 43]]\n"
     ]
    }
   ],
   "source": [
    "p=np.random.randint(10,50,(4,4))\n",
    "print(p)\n",
    "n=int(input(\"Enter the column to sort \"))\n",
    "print(p[p[:,n].argsort()])"
   ]
  },
  {
   "cell_type": "markdown",
   "metadata": {},
   "source": [
    "17.How to tell if a given 2D array has null columns?"
   ]
  },
  {
   "cell_type": "code",
   "execution_count": 68,
   "metadata": {},
   "outputs": [
    {
     "name": "stdout",
     "output_type": "stream",
     "text": [
      "zero column not found\n",
      "zero column found in column number 1\n",
      "zero column not found\n"
     ]
    }
   ],
   "source": [
    "o=np.array(([1,0,3],[6,0,0],[3,0,5],[6,0,8]))\n",
    "for col in range(len(o.T)):\n",
    "    if np.any(o[:,col]):\n",
    "        print(\"zero column not found\")\n",
    "    else:\n",
    "        p=(o[:,col])\n",
    "        print(\"zero column found in column number {}\".format(col))"
   ]
  },
  {
   "cell_type": "markdown",
   "metadata": {},
   "source": [
    "18. Considering a two dimensions array, how to get sum over the last two columns at once?"
   ]
  },
  {
   "cell_type": "code",
   "execution_count": 91,
   "metadata": {},
   "outputs": [
    {
     "name": "stdout",
     "output_type": "stream",
     "text": [
      "original array:  \n",
      " [[12 34 48 34]\n",
      " [16 29 47 38]\n",
      " [27 33 36 25]\n",
      " [49 30 28 46]] \n",
      "\n",
      "sum of last two array: \n",
      " [[82]\n",
      " [85]\n",
      " [61]\n",
      " [74]] \n",
      "\n",
      "array after summing up the last two columns \n",
      " [[12 34 82]\n",
      " [16 29 85]\n",
      " [27 33 61]\n",
      " [49 30 74]]\n"
     ]
    }
   ],
   "source": [
    "q=np.random.randint(10,50,(4,4))\n",
    "print(\"original array: \",\"\\n\",q,\"\\n\")\n",
    "x=q[:,-1]+q[:,-2]\n",
    "sums=x.reshape(4,1)\n",
    "print(\"sum of last two array:\",\"\\n\",sums,\"\\n\")\n",
    "q=np.delete(q,np.s_[2:],axis=1)\n",
    "q=np.hstack((q,sums))\n",
    "print(\"array after summing up the last two columns\",\"\\n\",q)"
   ]
  },
  {
   "cell_type": "markdown",
   "metadata": {},
   "source": [
    "19. Given a 2d array of 5X5, increment 1st column by 1, second column by 2, 3rd column by 3 & so on till the last column"
   ]
  },
  {
   "cell_type": "code",
   "execution_count": 8,
   "metadata": {},
   "outputs": [
    {
     "name": "stdout",
     "output_type": "stream",
     "text": [
      "original array: \n",
      " [[13 17 22 11 18]\n",
      " [23 15 23 23 20]\n",
      " [20 16 10 20 24]\n",
      " [15 13 15 15 25]\n",
      " [18 25 17 11 13]]\n",
      "after processing \n",
      " [[14 19 25 15 23]\n",
      " [24 17 26 27 25]\n",
      " [21 18 13 24 29]\n",
      " [16 15 18 19 30]\n",
      " [19 27 20 15 18]]\n"
     ]
    }
   ],
   "source": [
    "r=np.random.randint(10,26,(5,5))\n",
    "print(\"original array:\",\"\\n\",r)\n",
    "for col in range(len(r.T)):\n",
    "    r[:,col]+=col+1\n",
    "print(\"after processing\",\"\\n\",r)"
   ]
  },
  {
   "cell_type": "markdown",
   "metadata": {},
   "source": [
    "20. Given a 1d array(size 100) of boolean values, identify total number of True in it."
   ]
  },
  {
   "cell_type": "code",
   "execution_count": 17,
   "metadata": {},
   "outputs": [
    {
     "name": "stdout",
     "output_type": "stream",
     "text": [
      "number of true's=  54\n"
     ]
    }
   ],
   "source": [
    "s=np.random.choice((True,False),size=100)\n",
    "ans=np.unique(s, return_counts=True)\n",
    "print(\"number of true's= \", ans[1][1])"
   ]
  },
  {
   "cell_type": "markdown",
   "metadata": {},
   "source": [
    "21. Consider the vector [1, 2, 3, 4, 5], how to build a new vector with 3 consecutive zeros interleaved between each value?"
   ]
  },
  {
   "cell_type": "code",
   "execution_count": 24,
   "metadata": {},
   "outputs": [
    {
     "name": "stdout",
     "output_type": "stream",
     "text": [
      "[1 0 0 0 2 0 0 0 3 0 0 0 4 0 0 0 5]\n"
     ]
    }
   ],
   "source": [
    "t=np.array([1,2,3,4,5])\n",
    "index=1\n",
    "while index<len(t):\n",
    "    for i in range(3):\n",
    "        t=np.insert(t,index,0)\n",
    "    index+=4\n",
    "print(t)"
   ]
  },
  {
   "cell_type": "markdown",
   "metadata": {},
   "source": [
    "22. How to swap two rows of an array?"
   ]
  },
  {
   "cell_type": "code",
   "execution_count": 5,
   "metadata": {},
   "outputs": [
    {
     "name": "stdout",
     "output_type": "stream",
     "text": [
      "original array: \n",
      " [[13 18 16 25 20]\n",
      " [14 18 14 18 14]\n",
      " [23 23 12 12 18]\n",
      " [20 17 10 15 15]\n",
      " [21 18 24 21 21]]\n",
      "interchanged array \n",
      " [[23 23 12 12 18]\n",
      " [14 18 14 18 14]\n",
      " [13 18 16 25 20]\n",
      " [20 17 10 15 15]\n",
      " [21 18 24 21 21]]\n"
     ]
    }
   ],
   "source": [
    "u=np.random.randint(10,26,(5,5))\n",
    "print(\"original array:\", \"\\n\",u)\n",
    "u[[0, 2]] = u[[2, 0]]\n",
    "print(\"interchanged array\",\"\\n\",u)"
   ]
  },
  {
   "cell_type": "markdown",
   "metadata": {},
   "source": [
    "23. How to get n largest value of an array?"
   ]
  },
  {
   "cell_type": "code",
   "execution_count": 6,
   "metadata": {},
   "outputs": [
    {
     "name": "stdout",
     "output_type": "stream",
     "text": [
      "array \n",
      " [[14 13 23 20 18]\n",
      " [10 16 18 23 15]\n",
      " [20 16 25 17 14]\n",
      " [10 14 10 13 15]\n",
      " [11 15 16 25 18]]\n",
      "25\n"
     ]
    }
   ],
   "source": [
    "v=np.random.randint(10,26,(5,5))\n",
    "print(\"array\",'\\n',v)\n",
    "print(np.amax(v))"
   ]
  },
  {
   "cell_type": "markdown",
   "metadata": {},
   "source": [
    "24. Given two random arrays of shape 5X5, identify the common elements between them."
   ]
  },
  {
   "cell_type": "code",
   "execution_count": 11,
   "metadata": {
    "scrolled": true
   },
   "outputs": [
    {
     "name": "stdout",
     "output_type": "stream",
     "text": [
      "first array= : \n",
      " [[24 22 16 10 20]\n",
      " [23 11 13 11 24]\n",
      " [15 18 19 17 15]\n",
      " [25 21 25 13 25]\n",
      " [19 12 10 25 15]] \n",
      " second array=  \n",
      " [[23 24 24 12 15]\n",
      " [12 10 15 11 20]\n",
      " [25 10 11 18 25]\n",
      " [15 20 15 17 11]\n",
      " [23 14 12 11 12]] \n",
      " common elements=  \n",
      " [10 11 12 15 17 18 20 23 24 25]\n"
     ]
    }
   ],
   "source": [
    "w=np.random.randint(10,26,(5,5))\n",
    "x=np.random.randint(10,26,(5,5))\n",
    "print(\"first array= :\",\"\\n\",w,\"\\n\",\"second array= \",\"\\n\",x,\"\\n\",\"common elements= \",\"\\n\",np.intersect1d(w,x))"
   ]
  },
  {
   "cell_type": "markdown",
   "metadata": {},
   "source": [
    "25. How to get index of top two highest value in a 1d array?"
   ]
  },
  {
   "cell_type": "code",
   "execution_count": 16,
   "metadata": {},
   "outputs": [
    {
     "name": "stdout",
     "output_type": "stream",
     "text": [
      "array [134 236  77 161  58 209 216  10 242 101 193 201 150  78 174 162 177 136\n",
      "  77  13 206 225 141 262 128  29 239 153 108 121 179  41  58 208  58 190\n",
      " 234 198  24 141  29  94  42  30 232 108 243 107 144  94 162  64 251  70\n",
      "  38 210  25  83 234 209 126  69 205  39 173  19  30 165  80 216 144  82\n",
      " 124 240  75 105 183 251 130 169  55 257 248 200 110 237 135 254 170  84\n",
      "  52 255  93 189  88  66  37  67 129 258 137  86 264  58  20 126  73  56\n",
      " 198 218 123 246 169 164 157 151 214 121 199 113 134 254  48 152 102  32\n",
      " 202 189  25 123 156 234  22 110  72  73 215 260 160 164  13 229  86  79\n",
      " 156  66 240  46 213  34  63 239  90  95 186 221 133 102 217 171  62 248\n",
      "  14  54 243 239 200  16 223  47 257 227 239 207 125 170  33 110 107  90\n",
      " 190  34 146 206 173 137 187 158 211 130  74 247 167 178  49 151 226 140\n",
      "  42 179]\n",
      "highest value is:  264 at 102\n",
      "second highest value is:  262 at  23\n"
     ]
    }
   ],
   "source": [
    "y=np.random.randint(10,266,200)\n",
    "print(\"array\", y)\n",
    "max_val=y[0]\n",
    "max_index=0\n",
    "second_max=y[1]\n",
    "second_index=1\n",
    "for index,val in enumerate(y):\n",
    "    if max_val<val:\n",
    "        max_val=val\n",
    "        max_index=index\n",
    "print(\"highest value is: \",max_val,\"at\",max_index)\n",
    "for index,val in enumerate(y):\n",
    "    if index!=max_index:\n",
    "        if second_max<val:\n",
    "            second_max=val\n",
    "            second_index=index\n",
    "print(\"second highest value is: \", second_max,\"at \",second_index)"
   ]
  }
 ],
 "metadata": {
  "kernelspec": {
   "display_name": "Python 3",
   "language": "python",
   "name": "python3"
  },
  "language_info": {
   "codemirror_mode": {
    "name": "ipython",
    "version": 3
   },
   "file_extension": ".py",
   "mimetype": "text/x-python",
   "name": "python",
   "nbconvert_exporter": "python",
   "pygments_lexer": "ipython3",
   "version": "3.7.4"
  }
 },
 "nbformat": 4,
 "nbformat_minor": 2
}
